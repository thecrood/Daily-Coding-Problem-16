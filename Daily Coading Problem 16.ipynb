{
 "cells": [
  {
   "cell_type": "markdown",
   "id": "6d2df223",
   "metadata": {},
   "source": [
    "# Daily Coading Problem 16"
   ]
  },
  {
   "cell_type": "markdown",
   "id": "41189622",
   "metadata": {},
   "source": [
    "This problem was asked by Twitter.\n",
    "\n",
    "You run an e-commerce website and want to record the last N order ids in a log. Implement a data structure to accomplish this, with the following API:\n",
    "\n",
    "   * record(order_id): adds the order_id to the log\n",
    "   * get_last(i): gets the ith last element from the log. i is guaranteed to be smaller than or equal to N.\n",
    "   \n",
    "You should be as efficient with time and space as possible."
   ]
  },
  {
   "cell_type": "markdown",
   "id": "1cb090bf",
   "metadata": {},
   "source": [
    "It seems like an array would be the perfect fit for this problem. We can just initialize the array to have size N, and index it in constant time. Then, when we record any orders, we can pop off the first order and append it to the end. Getting the ith last order would then just be indexing the array at length - i."
   ]
  },
  {
   "cell_type": "code",
   "execution_count": 1,
   "id": "eee1a1e7",
   "metadata": {},
   "outputs": [],
   "source": [
    "class Log(object):\n",
    "    def __init__(self, n):\n",
    "        self._log = []\n",
    "        self.n = n\n",
    "\n",
    "    def record(self, order_id):\n",
    "        if len(self._log) >= self.n:\n",
    "            self._log.pop(0)\n",
    "        self._log.append(order_id)\n",
    "\n",
    "    def get_last(self, i):\n",
    "        return self._log[-i]"
   ]
  },
  {
   "cell_type": "markdown",
   "id": "05453a5d",
   "metadata": {},
   "source": [
    "This is one issue with this solution, however: when we have to pop off an element when the array is full, we have to move every other element down by 1. That means record takes O(N) time. How can we improve this?\n",
    "\n",
    "What we can do to avoid having to moving every element down by 1 is to keep a current index and move it up each time we record something. For get_last, we can simply take current - i to get the appropriate element. Now, both record and get_last should take constant time."
   ]
  },
  {
   "cell_type": "code",
   "execution_count": null,
   "id": "bdb56da8",
   "metadata": {},
   "outputs": [],
   "source": [
    "class Log(object):\n",
    "    def __init__(self, n):\n",
    "        self.n = n\n",
    "        self._log = []\n",
    "        self._cur = 0\n",
    "\n",
    "    def record(self, order_id):\n",
    "        if len(self._log) == self.n:\n",
    "            self._log[self._cur] = order_id\n",
    "        else:\n",
    "            self._log.append(order_id)\n",
    "        self._cur = (self._cur + 1) % self.n\n",
    "\n",
    "    def get_last(self, i):\n",
    "        return self._log[self._cur - i]"
   ]
  },
  {
   "cell_type": "markdown",
   "id": "31078ce7",
   "metadata": {},
   "source": [
    "By the way, this is called a ring buffer or circular buffer!"
   ]
  }
 ],
 "metadata": {
  "kernelspec": {
   "display_name": "Python 3 (ipykernel)",
   "language": "python",
   "name": "python3"
  },
  "language_info": {
   "codemirror_mode": {
    "name": "ipython",
    "version": 3
   },
   "file_extension": ".py",
   "mimetype": "text/x-python",
   "name": "python",
   "nbconvert_exporter": "python",
   "pygments_lexer": "ipython3",
   "version": "3.8.10"
  }
 },
 "nbformat": 4,
 "nbformat_minor": 5
}
